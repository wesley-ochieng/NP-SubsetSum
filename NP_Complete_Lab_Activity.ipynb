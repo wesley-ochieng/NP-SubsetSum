{
 "cells": [
  {
   "cell_type": "markdown",
   "metadata": {},
   "source": [
    "# Exploring NP-Complete Problems: Subset Sum\n",
    "\n",
    "**Group Members:** [Enter Name 1], [Enter Name 2], [Enter Name 3]\n",
    "\n",
    "**Roles:**\n",
    "* [Name 1]: Lead Researcher & Analyst\n",
    "* [Name 2]: Lead Python Developer\n",
    "* [Name 3]: Documentation & Reduction Specialist"
   ]
  },
  {
   "cell_type": "markdown",
   "metadata": {},
   "source": [
    "---"
   ]
  },
  {
   "cell_type": "markdown",
   "metadata": {},
   "source": [
    "## 🔹 2. Problem Analysis: Subset Sum"
   ]
  },
  {
   "cell_type": "markdown",
   "metadata": {},
   "source": [
    "### What is the formal definition of the selected problem?\n",
    "\n",
    "The **Subset Sum Problem** is a classic decision problem in computer science. It is defined as follows:\n",
    "\n",
    "> Given a set of non-negative integers `S` and a target integer `T`, is there a non-empty subset of `S` whose elements sum up to exactly `T`?\n",
    "\n",
    "For example, given the set `S = {3, 8, 4, 15, 6}` and a target `T = 13`, the answer is **yes**, because the subset `{3, 4, 6}` sums to 13."
   ]
  },
  {
   "cell_type": "markdown",
   "metadata": {},
   "source": [
    "### Why is it classified as NP-complete?\n",
    "\n",
    "The Subset Sum problem is classified as NP-complete because it satisfies two conditions:\n",
    "\n",
    "1.  **It is in NP (Nondeterministic Polynomial time):** If someone gives you a potential solution (a subset of numbers), you can easily verify if it's correct in polynomial time. You just have to sum the elements of the given subset and check if the sum equals the target `T`. This verification is very fast.\n",
    "\n",
    "2.  **It is NP-hard:** This means that any other problem in NP can be reduced to the Subset Sum problem in polynomial time. The classic proof involves showing a reduction from a known NP-complete problem, like **3-SAT**, to Subset Sum. Because no efficient (polynomial-time) algorithm is known for any NP-complete problem, and Subset Sum is at least as hard as all of them, it is considered NP-hard.\n",
    "\n",
    "Since it is both in NP and NP-hard, it is NP-complete."
   ]
  },
  {
   "cell_type": "markdown",
   "metadata": {},
   "source": [
    "### What are real-world applications of this problem?\n",
    "\n",
    "The Subset Sum problem, and its optimization variant (the Knapsack problem), have several real-world applications, particularly in resource allocation and finance.\n",
    "\n",
    "* **Financial Budgeting:** Imagine you have a set of potential investments or project costs and a fixed budget. The Subset Sum problem can help determine if there's a combination of projects whose costs exactly match a specific budget allocation.\n",
    "* **Cryptography:** Some older public-key cryptosystems, like the Merkle-Hellman knapsack cryptosystem, were based on the difficulty of solving the Subset Sum problem.\n",
    "* **Resource Allocation:** In manufacturing, if you have stock material of various lengths and need to cut pieces to fulfill an order of a specific total length with no waste, this can be modeled as a Subset Sum problem."
   ]
  },
  {
   "cell_type": "markdown",
   "metadata": {},
   "source": [
    "---"
   ]
  },
  {
   "cell_type": "markdown",
   "metadata": {},
   "source": [
    "## 🔹 3. Reduction Demonstration (3-SAT to Subset Sum)"
   ]
  },
  {
   "cell_type": "markdown",
   "metadata": {},
   "source": [
    "To prove that Subset Sum is NP-hard, we can show a polynomial-time reduction from 3-SAT. This means we can transform any 3-SAT problem into a Subset Sum problem such that the 3-SAT formula is satisfiable if and only if the corresponding Subset Sum instance has a solution.\n",
    "\n",
    "**Input Transformation Steps:**\n",
    "\n",
    "Consider a 3-SAT formula with `n` variables (x₁, x₂, ...) and `m` clauses (C₁, C₂, ...).\n",
    "\n",
    "1.  **Create a Large Table:** We construct a table with two rows for each variable and one row for each clause. The numbers in our set `S` will be derived from the rows of this table.\n",
    "\n",
    "2.  **Variable Numbers:** For each variable `xᵢ`, create two large numbers, `vᵢ` and `v'ᵢ`.\n",
    "    * `vᵢ` corresponds to setting `xᵢ` to **true**.\n",
    "    * `v'ᵢ` corresponds to setting `xᵢ` to **false**.\n",
    "    * These numbers are constructed in base-10. The first `n` digits correspond to the variables, and the last `m` digits correspond to the clauses.\n",
    "    * For `vᵢ`, the `i`-th digit is 1. For each clause `Cⱼ` where `xᵢ` appears, the `(n+j)`-th digit is 1.\n",
    "    * For `v'ᵢ`, the `i`-th digit is 1. For each clause `Cⱼ` where `¬xᵢ` (not xᵢ) appears, the `(n+j)`-th digit is 1.\n",
    "\n",
    "3.  **Clause Slack Numbers:** For each clause `Cⱼ`, create two \"slack\" numbers, `sⱼ` and `s'ⱼ`. These numbers have a 1 only in the digit position corresponding to their clause.\n",
    "\n",
    "4.  **Create the Target Sum (T):** The target sum `T` is a number constructed with `n` 1s followed by `m` 3s. `T = 11...133...3`.\n",
    "\n",
    "**Reasoning and Explanation:**\n",
    "\n",
    "* The `1`s in the first `n` digits of the target `T` force us to choose exactly one number for each variable (`vᵢ` or `v'ᵢ`), which is equivalent to assigning each variable a `true` or `false` value.\n",
    "* The `3`s in the last `m` digits of `T` represent the need to satisfy each clause. The construction ensures that for each clause, the sum of the digits from the chosen variable numbers will be 1, 2, or 3. The slack variables are then used to bring this sum up to exactly 3 for each clause.\n",
    "\n",
    "If the 3-SAT formula is satisfiable, we can pick the corresponding variable numbers (`vᵢ` or `v'ᵢ`). This selection will satisfy the clauses, and we can use the slack variables to hit the target sum `T` exactly. If the formula is not satisfiable, no combination of variable numbers will be able to satisfy all clauses, and it will be impossible to reach the target sum `T`."
   ]
  },
  {
   "cell_type": "markdown",
   "metadata": {},
   "source": [
    "---"
   ]
  },
  {
   "cell_type": "markdown",
   "metadata": {},
   "source": [
    "## 🔹 4. Algorithm Implementation (Subset Sum)"
   ]
  },
  {
   "cell_type": "code",
   "execution_count": null,
   "metadata": {},
   "outputs": [],
   "source": [
    "def subset_sum(S, T):\n",
    "    \"\"\"\n",
    "    Solves the Subset Sum problem using dynamic programming.\n",
    "    \n",
    "    Args:\n",
    "        S (list): A list of non-negative integers.\n",
    "        T (int): The target sum.\n",
    "        \n",
    "    Returns:\n",
    "        bool: True if a subset with the target sum exists, False otherwise.\n",
    "    \"\"\"\n",
    "    n = len(S)\n",
    "    \n",
    "    # Create a DP table `dp[i][j]` which will be true if a sum `j` can be \n",
    "    # obtained using a subset of the first `i` elements of S.\n",
    "    dp = [[False for _ in range(T + 1)] for _ in range(n + 1)]\n",
    "    \n",
    "    # Base case: A sum of 0 is always possible with an empty set.\n",
    "    for i in range(n + 1):\n",
    "        dp[i][0] = True\n",
    "        \n",
    "    # Fill the DP table in a bottom-up manner.\n",
    "    for i in range(1, n + 1):\n",
    "        for j in range(1, T + 1):\n",
    "            # If the current element S[i-1] is greater than the current sum j,\n",
    "            # we cannot include it. So, the result is the same as without this element.\n",
    "            if S[i-1] > j:\n",
    "                dp[i][j] = dp[i-1][j]\n",
    "            else:\n",
    "                # Otherwise, we have two choices:\n",
    "                # 1. Don't include the current element (dp[i-1][j])\n",
    "                # 2. Include the current element (dp[i-1][j - S[i-1]])\n",
    "                # If either choice leads to a solution, then dp[i][j] is true.\n",
    "                dp[i][j] = dp[i-1][j] or dp[i-1][j - S[i-1]]\n",
    "                \n",
    "    # The final answer is in the bottom-right corner of the table.\n",
    "    return dp[n][T]\n",
    "\n",
    "# --- Sample Input and Output ---\n",
    "if __name__ == \"__main__\":\n",
    "    # Sample 1: A solution exists\n",
    "    S1 = {3, 8, 4, 15, 6}\n",
    "    T1 = 13\n",
    "    print(f\"Set: {S1}\")\n",
    "    print(f\"Target Sum: {T1}\")\n",
    "    result1 = subset_sum(list(S1), T1)\n",
    "    print(f\"Does a subset with the target sum exist? -> {result1}\") # Expected: True\n",
    "    print(\"-\"*20)\n",
    "\n",
    "    # Sample 2: No solution exists\n",
    "    S2 = {1, 2, 7, 10}\n",
    "    T2 = 12\n",
    "    print(f\"Set: {S2}\")\n",
    "    print(f\"Target Sum: {T2}\")\n",
    "    result2 = subset_sum(list(S2), T2)\n",
    "    print(f\"Does a subset with the target sum exist? -> {result2}\") # Expected: False"
   ]
  }
 ],
 "metadata": {
  "kernelspec": {
   "display_name": "Python 3",
   "language": "python",
   "name": "python3"
  },
  "language_info": {
   "codemirror_mode": {
    "name": "ipython",
    "version": 3
   },
   "file_extension": ".py",
   "mimetype": "text/x-python",
   "name": "python",
   "nbconvert_exporter": "python",
   "pygments_lexer": "ipython3",
   "version": "3.9.7"
  }
 },
 "nbformat": 4,
 "nbformat_minor": 4
}
